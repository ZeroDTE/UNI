{
 "cells": [
  {
   "cell_type": "code",
   "execution_count": 24,
   "metadata": {},
   "outputs": [],
   "source": [
    "class Solution(object):\n",
    "    def isCircularSentence(self, sentence):\n",
    "        \"\"\"\n",
    "        :type sentence: str\n",
    "        :rtype: bool\n",
    "        \"\"\"\n",
    "        words = sentence.split()\n",
    "        \n",
    "        # Check if first letter of first word equals last letter of last word\n",
    "        if words[0][0] != words[-1][-1]:\n",
    "            return False\n",
    "            \n",
    "        # Check if last letter of each word equals first letter of next word\n",
    "        for i in range(len(words)-1):\n",
    "            if words[i][-1] != words[i+1][0]:\n",
    "                return False\n",
    "                \n",
    "        return True"
   ]
  },
  {
   "cell_type": "code",
   "execution_count": 25,
   "metadata": {},
   "outputs": [
    {
     "name": "stdout",
     "output_type": "stream",
     "text": [
      "True\n"
     ]
    }
   ],
   "source": [
    "test = \"IuTiUtGGsNydmacGduehPPGksKQyT TmOraUbCcQdnZUCpGCYtGp p pG GCcRvZDRawqGKOiBSLwjIDOjdhnHiisfddYoeHqxOqkUvOEyI\"\n",
    "solution = Solution()\n",
    "print(solution.isCircularSentence(test))\n"
   ]
  },
  {
   "cell_type": "code",
   "execution_count": 8,
   "metadata": {},
   "outputs": [
    {
     "data": {
      "text/plain": [
       "[12, 0, 0, 13]"
      ]
     },
     "execution_count": 8,
     "metadata": {},
     "output_type": "execute_result"
    }
   ],
   "source": [
    "code = [5,7,1,4]\n",
    "k = 3\n",
    "\n",
    "[sum(code[(i+1)%len(code):((i+k+1)%len(code)) or len(code)]) for i in range(len(code))]\n"
   ]
  },
  {
   "cell_type": "code",
   "execution_count": null,
   "metadata": {},
   "outputs": [],
   "source": []
  },
  {
   "cell_type": "code",
   "execution_count": null,
   "metadata": {},
   "outputs": [],
   "source": []
  }
 ],
 "metadata": {
  "kernelspec": {
   "display_name": "Python 3",
   "language": "python",
   "name": "python3"
  },
  "language_info": {
   "codemirror_mode": {
    "name": "ipython",
    "version": 3
   },
   "file_extension": ".py",
   "mimetype": "text/x-python",
   "name": "python",
   "nbconvert_exporter": "python",
   "pygments_lexer": "ipython3",
   "version": "3.10.11"
  }
 },
 "nbformat": 4,
 "nbformat_minor": 2
}
