{
 "cells": [
  {
   "cell_type": "code",
   "execution_count": 13,
   "metadata": {},
   "outputs": [],
   "source": [
    "# Importiere die benötigten Bibliotheken\n",
    "import numpy as np\n",
    "import matplotlib.pyplot as plt\n",
    "from IPython.display import clear_output"
   ]
  },
  {
   "cell_type": "code",
   "execution_count": 6,
   "metadata": {},
   "outputs": [
    {
     "data": {
      "image/png": "[encoded data removed]",
      "text/plain": [
       "<Figure size 640x480 with 1 Axes>"
      ]
     },
     "metadata": {},
     "output_type": "display_data"
    }
   ],
   "source": [
    "\n",
    "\n",
    "class GameOfLife:\n",
    "    def __init__(self, width=50, height=50):\n",
    "        \"\"\"\n",
    "        Initialisiert das Spiel des Lebens mit einer zufälligen Startpopulation.\n",
    "        \n",
    "        Parameter:\n",
    "        width: Breite des Spielfelds\n",
    "        height: Höhe des Spielfelds\n",
    "        \"\"\"\n",
    "        self.width = width\n",
    "        self.height = height\n",
    "        # Erstelle ein zufälliges Gitter mit 15% Wahrscheinlichkeit für lebende Zellen\n",
    "        self.grid = np.random.choice([0, 1], size=(height, width), p=[1, 0.0])\n",
    "        self.next_grid = self.grid.copy()\n",
    "    \n",
    "    def count_neighbors(self, row, col):\n",
    "        \"\"\"\n",
    "        Zählt die Anzahl der lebenden Nachbarzellen für eine gegebene Position.\n",
    "        Verwendet einen Torus-Effekt an den Rändern.\n",
    "        \"\"\"\n",
    "        # Beispiel: Für eine Zelle an Position (0,0) in einem 5x5 Gitter:\n",
    "        # Wir prüfen alle 8 Nachbarzellen in einem 3x3 Bereich um (0,0)\n",
    "        # range(-1, 2) gibt uns die Werte -1, 0, 1:\n",
    "        # -1 für die linke/obere Nachbarzelle\n",
    "        # 0 für die mittlere Position\n",
    "        # 1 für die rechte/untere Nachbarzelle\n",
    "        total = 0\n",
    "        for i in range(-1, 2):  # i wird -1, 0, 1 sein\n",
    "            for j in range(-1, 2):  # j wird -1, 0, 1 sein\n",
    "                # Überspringe die Zelle selbst (wenn i=0 und j=0)\n",
    "                if i == 0 and j == 0:\n",
    "                    continue\n",
    "                    \n",
    "                # Beispiel für die Berechnung der Nachbarpositionen:\n",
    "                # Bei i=-1,j=-1: (-1,-1) wird zu (4,4) durch Modulo\n",
    "                # Bei i=-1,j=0:  (-1,0) wird zu (4,0) durch Modulo\n",
    "                # Bei i=-1,j=1:  (-1,1) wird zu (4,1) durch Modulo\n",
    "                # usw.\n",
    "                # Für Position (0,0) in einem 5x5 Gitter:\n",
    "                # Bei i=-1: (0 + (-1)) % 5 = -1 % 5 = 4 (letzte Zeile)\n",
    "                # Bei i=0:  (0 + 0) % 5 = 0 % 5 = 0 (aktuelle Zeile)\n",
    "                # Bei i=1:  (0 + 1) % 5 = 1 % 5 = 1 (nächste Zeile)\n",
    "                neighbor_row = (row + i) % self.height  # Torus-Effekt vertikal\n",
    "                \n",
    "                # Analog für die Spalten:\n",
    "                # Bei j=-1: (0 + (-1)) % 5 = -1 % 5 = 4 (letzte Spalte)\n",
    "                # Bei j=0:  (0 + 0) % 5 = 0 % 5 = 0 (aktuelle Spalte) \n",
    "                # Bei j=1:  (0 + 1) % 5 = 1 % 5 = 1 (nächste Spalte)\n",
    "                neighbor_col = (col + j) % self.width   # Torus-Effekt horizontal\n",
    "                \n",
    "                total += self.grid[neighbor_row, neighbor_col]\n",
    "        return total\n",
    "    \n",
    "    def update(self):\n",
    "        \"\"\"\n",
    "        Aktualisiert den Zustand aller Zellen nach den Regeln von Conway:\n",
    "        1. Eine lebende Zelle mit weniger als 2 Nachbarn stirbt (Unterbevölkerung)\n",
    "        2. Eine lebende Zelle mit 2 oder 3 Nachbarn überlebt\n",
    "        3. Eine lebende Zelle mit mehr als 3 Nachbarn stirbt (Überbevölkerung)\n",
    "        4. Eine tote Zelle mit genau 3 Nachbarn wird lebendig (Fortpflanzung)\n",
    "        \"\"\"\n",
    "        for row in range(self.height):\n",
    "            for col in range(self.width):\n",
    "                neighbors = self.count_neighbors(row, col)\n",
    "                cell = self.grid[row, col]\n",
    "                \n",
    "                if cell == 1:  # Lebende Zelle\n",
    "                    if neighbors < 2 or neighbors > 3:\n",
    "                        self.next_grid[row, col] = 0  # Stirbt\n",
    "                    else:\n",
    "                        self.next_grid[row, col] = 1  # Überlebt\n",
    "                else:  # Tote Zelle\n",
    "                    if neighbors == 3:\n",
    "                        self.next_grid[row, col] = 1  # Wird geboren\n",
    "                    else:\n",
    "                        self.next_grid[row, col] = 0  # Bleibt tot\n",
    "        \n",
    "        # Tausche die Gitter für den nächsten Schritt\n",
    "        self.grid, self.next_grid = self.next_grid.copy(), self.grid\n",
    "    \n",
    "    def display(self):\n",
    "        \"\"\"\n",
    "        Zeigt den aktuellen Zustand des Spiels an.\n",
    "        Schwarze Zellen sind lebendig, weiße Zellen sind tot.\n",
    "        \"\"\"\n",
    "        # Lösche die aktuelle Figur\n",
    "        plt.clf()\n",
    "        # Zeige das Gitter mit binärer Farbkarte (schwarz=1, weiß=0)\n",
    "        plt.imshow(self.grid, cmap='binary')\n",
    "        # Zeige Gitterlinien\n",
    "        plt.grid(True)\n",
    "        # Zeige die Grafik an\n",
    "        plt.show()\n",
    "    \n",
    "    def run(self, generations=100, interval=0.1):\n",
    "        \"\"\"\n",
    "        Führt die Simulation für eine bestimmte Anzahl von Generationen aus.\n",
    "        \n",
    "        Parameter:\n",
    "        generations: Anzahl der zu simulierenden Generationen\n",
    "        interval: Zeitintervall zwischen den Generationen in Sekunden\n",
    "        \"\"\"\n",
    "        for _ in range(generations):\n",
    "            clear_output(wait=True)  # Lösche die vorherige Ausgabe\n",
    "            self.display()           # Zeige aktuellen Zustand\n",
    "            self.update()            # Aktualisiere das Gitter\n",
    "            plt.pause(interval)      # Pause für Animation\n",
    "\n",
    "def create_game(width=50, height=50, pattern=None):\n",
    "    \"\"\"\n",
    "    Erstellt ein neues Spiel mit optionalem Startmuster.\n",
    "    \n",
    "    Parameter:\n",
    "    width: Breite des Spielfelds\n",
    "    height: Höhe des Spielfelds\n",
    "    pattern: Optionales Startmuster, das in der Mitte platziert wird\n",
    "\n",
    "    \n",
    "    \"\"\"\n",
    "    #     Beispiel:\n",
    "    # Wenn width=50, height=50 und wir ein 3x3 Gleiter-Muster haben:\n",
    "    # pattern = np.array([\n",
    "    #     [0, 1, 0],  # Ein \"Gleiter\"\n",
    "    #     [0, 0, 1],\n",
    "    #     [1, 1, 1]\n",
    "    # ])\n",
    "    \n",
    "    # Dann wird das Muster in der Mitte platziert:\n",
    "    # - start_row = 50//2 - 3//2 = 24 (Startzeile)\n",
    "    # - start_col = 50//2 - 3//2 = 24 (Startspalte)\n",
    "    \n",
    "    # Das Muster wird dann in die Zellen (24:27, 24:27) eingefügt.\n",
    "    game = GameOfLife(width, height)\n",
    "    if pattern is not None:\n",
    "        # Platziere das Muster in der Mitte des Spielfelds\n",
    "        start_row = height // 2 - pattern.shape[0] // 2\n",
    "        start_col = width // 2 - pattern.shape[1] // 2\n",
    "        # Beispiel für pattern:\n",
    "        # pattern = np.array([\n",
    "        #    [0, 1, 0],  # Ein \"Gleiter\"\n",
    "        #    [0, 0, 1],  \n",
    "        #    [1, 1, 1]\n",
    "        # ])\n",
    "        game.grid[start_row:start_row+pattern.shape[0], \n",
    "                 start_col:start_col+pattern.shape[1]] = pattern  # Fügt das Muster in die Mitte des Spielfelds ein\n",
    "    return game\n",
    "\n",
    "# Definiere bekannte Muster\n",
    "GLIDER = np.array([\n",
    "    [0, 1, 0],  # Ein \"Gleiter\" - ein bekanntes bewegliches Muster\n",
    "    [0, 0, 1],\n",
    "    [1, 1, 1]\n",
    "])\n",
    "\n",
    "# Starte das Spiel mit einem Gleiter-Muster\n",
    "game = create_game(pattern=GLIDER)\n",
    "game.run(generations=100, interval=0.1)"
   ]
  },
  {
   "cell_type": "code",
   "execution_count": 107,
   "metadata": {},
   "outputs": [],
   "source": [
    "class Gameoflife : \n",
    "    def __init__ (self, width = 50, height = 50 ) :\n",
    "        self.height = height\n",
    "        self.width = width\n",
    "        self.grid = np.random.choice ( [0,1], size= (height, width), p = [1.0 ,0.0])\n",
    "        self.grid_next = self.grid.copy()\n",
    "\n",
    "    def count_neighbors (self, row, col): \n",
    "        total =0\n",
    "\n",
    "        for i in range(-1,2):\n",
    "            for j in range (-1,2):\n",
    "                if i == 0 and j == 0 : \n",
    "                    continue\n",
    "                neighbor_row = ( row + i ) % self.height\n",
    "                neighbor_col = ( col + j) % self.width\n",
    "                total += self.grid[neighbor_row,neighbor_col]\n",
    "        return total\n",
    "\n",
    "    def update (self):\n",
    "        \n",
    "\n",
    "        for row in range (self.height) :\n",
    "            for col in range (self.width) : \n",
    "                neighbor = self.count_neighbors(row,col)\n",
    "                cell = self.grid[row,col]\n",
    "                if cell == 1 : \n",
    "                    if neighbor < 2 or neighbor > 3 : \n",
    "                        self.grid_next[row,col] = 0 # stirbt\n",
    "                    else: \n",
    "                        self.grid_next[row,col] = 1 #überlebt\n",
    "                else : \n",
    "                    if neighbor == 3 : \n",
    "                        self.grid_next[row,col] = 1\n",
    "                    else : \n",
    "                        self.grid_next[row,col] = 0\n",
    "        self.grid, self.grid_next = self.grid_next.copy(), self.grid\n",
    "\n",
    "\n",
    "    def display (self) : \n",
    "        plt.clf()\n",
    "        plt.imshow( self.grid ,  cmap = \"binary\")\n",
    "        plt.grid(True)\n",
    "        plt.show()\n",
    "\n",
    "    def run (self, generations=100, interval=0.1)  : \n",
    "        \n",
    "        for _ in range(generations):\n",
    "            clear_output(wait=True)  \n",
    "            self.display()           \n",
    "            self.update()          \n",
    "            plt.pause(interval)      \n",
    "            "
   ]
  },
  {
   "cell_type": "code",
   "execution_count": 108,
   "metadata": {},
   "outputs": [],
   "source": [
    "def create_game (height = 50, width = 50,  pattern = None): \n",
    "    game = Gameoflife(width, height)\n",
    "    if pattern is not None :\n",
    "        start_row = (height) // 2 - pattern.shape[0] // 2 \n",
    "        start_col = width // 2 - pattern.shape[1] // 2\n",
    "\n",
    "    game.grid[start_row : start_row + pattern.shape[0], start_col : start_col + pattern.shape[1]] = pattern\n",
    "\n",
    "    return game\n",
    "        "
   ]
  },
  {
   "cell_type": "code",
   "execution_count": 122,
   "metadata": {},
   "outputs": [
    {
     "data": {
      "text/plain": [
       "<matplotlib.image.AxesImage at 0x2079d269f50>"
      ]
     },
     "execution_count": 122,
     "metadata": {},
     "output_type": "execute_result"
    },
    {
     "data": {
      "image/png": "[encoded data removed]",
      "text/plain": [
       "<Figure size 640x480 with 1 Axes>"
      ]
     },
     "metadata": {},
     "output_type": "display_data"
    }
   ],
   "source": [
    "grid_gen = np.random.choice([1,0], size= [20,20], p=[1.0, 0.0])\n",
    "plt.imshow(grid_gen)"
   ]
  },
  {
   "cell_type": "code",
   "execution_count": 112,
   "metadata": {},
   "outputs": [],
   "source": [
    "game = create_game(pattern = grid_gen)"
   ]
  },
  {
   "cell_type": "code",
   "execution_count": 113,
   "metadata": {},
   "outputs": [
    {
     "data": {
      "image/png": "[encoded data removed]",
      "text/plain": [
       "<Figure size 640x480 with 1 Axes>"
      ]
     },
     "metadata": {},
     "output_type": "display_data"
    }
   ],
   "source": [
    "game.run(generations=100, interval=0.1)"
   ]
  },
  {
   "cell_type": "code",
   "execution_count": 82,
   "metadata": {},
   "outputs": [],
   "source": [
    "# Definiere bekannte Muster\n",
    "GLIDER = np.array([\n",
    "    [0, 1, 0],  # Ein \"Gleiter\" - ein bekanntes bewegliches Muster\n",
    "    [0, 1, 0],\n",
    "    [0, 1,0 ] ]\n",
    "                 )"
   ]
  },
  {
   "cell_type": "code",
   "execution_count": null,
   "metadata": {},
   "outputs": [],
   "source": [
    "gmae = gane\n",
    "\n",
    "game.u"
   ]
  }
 ],
 "metadata": {
  "kernelspec": {
   "display_name": "Python 3 (ipykernel)",
   "language": "python",
   "name": "python3"
  },
  "language_info": {
   "codemirror_mode": {
    "name": "ipython",
    "version": 3
   },
   "file_extension": ".py",
   "mimetype": "text/x-python",
   "name": "python",
   "nbconvert_exporter": "python",
   "pygments_lexer": "ipython3",
   "version": "3.11.8"
  }
 },
 "nbformat": 4,
 "nbformat_minor": 4
}
