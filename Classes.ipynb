{
 "cells": [
  {
   "cell_type": "code",
   "execution_count": 1,
   "id": "343c7fb8-d088-4bb7-b212-1c2af86bb892",
   "metadata": {},
   "outputs": [],
   "source": [
    "# Einfachste Art eine Klasse zu erstellen \n"
   ]
  },
  {
   "cell_type": "code",
   "execution_count": 121,
   "id": "afd6a40c-9554-4a53-b433-86658fe2ff28",
   "metadata": {},
   "outputs": [],
   "source": [
    "class Person : \n",
    "    pass"
   ]
  },
  {
   "cell_type": "code",
   "execution_count": 122,
   "id": "b59f5688-8fd4-44ef-9621-46b66d4c248d",
   "metadata": {},
   "outputs": [
    {
     "data": {
      "text/plain": [
       "<__main__.Person at 0x16ca6903750>"
      ]
     },
     "execution_count": 122,
     "metadata": {},
     "output_type": "execute_result"
    }
   ],
   "source": [
    "p1 = Person()\n",
    "p1"
   ]
  },
  {
   "cell_type": "code",
   "execution_count": 123,
   "id": "7ec38d20-98a6-4125-8a95-10131fe2e117",
   "metadata": {},
   "outputs": [],
   "source": [
    "p1.name = \" Müller \" \n",
    "p1.vorname = \"Jurt \"\n",
    "p1.geb_Datum = \" 03.02.2022\"\n",
    "p1.gewicht = 20 \n"
   ]
  },
  {
   "cell_type": "code",
   "execution_count": 124,
   "id": "25bc2d93-3ebd-4f69-9b1c-d434446502aa",
   "metadata": {},
   "outputs": [
    {
     "name": "stdout",
     "output_type": "stream",
     "text": [
      " Müller  Jurt \n"
     ]
    }
   ],
   "source": [
    "print(p1.name, p1.vorname) "
   ]
  },
  {
   "cell_type": "code",
   "execution_count": 146,
   "id": "35faf231-2577-4077-9bc4-383a41ced69c",
   "metadata": {},
   "outputs": [],
   "source": [
    "# Neuer Bauplan für eine Person: \n",
    "# Beim Erstellen eines Objekts der Klasse Person \n",
    "# werden die Instanzvariablen direkt definiert. \n",
    "class Person:\n",
    "    def __init__(self, name, vorname, geb_Datum, gewicht):\n",
    "        self.name = name\n",
    "        self.vorname = vorname\n",
    "        self.geb_Datum = geb_Datum\n",
    "        self.gewicht = gewicht\n",
    "    \n",
    "    def vorstellen(self):\n",
    "        text = f\"\"\"Hallo.\n",
    "Ich heisse {self.vorname} {self.name}, wiege \n",
    "{self.gewicht} kg und habe {self.geb_Datum} Geburtstag.\n",
    "Nice to meet you.\"\"\"\n",
    "        print(text)\n",
    "    \n",
    "    def abnehmen(self, wie_viel): \n",
    "        print(\"Altes Gewicht:\",self.gewicht,\"kg\") \n",
    " \n",
    "        # Das neue Gewicht in der Instanzvariable \n",
    "        # des Objektes speichern \n",
    "        self.gewicht = self.gewicht - wie_viel \n",
    " \n",
    "        print(\"Neues Gewicht:\",self.gewicht,\"kg\") "
   ]
  },
  {
   "cell_type": "code",
   "execution_count": 138,
   "id": "683e16ac-3532-4533-82b8-187f1647c3d3",
   "metadata": {},
   "outputs": [],
   "source": [
    "\n",
    "p1.name = \" Müller \" \n",
    "p1.vorname = \"Jurt \"\n",
    "p1.geb_Datum = \" 03.02.2022\"\n",
    "p1.gewicht = 20 "
   ]
  },
  {
   "cell_type": "code",
   "execution_count": 147,
   "id": "faf10058-d40d-4a3f-9960-16b2e7536349",
   "metadata": {},
   "outputs": [],
   "source": [
    "p1 = Person ( \"Yahya \" , \"Al-Ghaish \", 1998, 70)"
   ]
  },
  {
   "cell_type": "code",
   "execution_count": 140,
   "id": "818478f2-8cc1-4cd9-a227-f5899ad3fae9",
   "metadata": {},
   "outputs": [
    {
     "name": "stdout",
     "output_type": "stream",
     "text": [
      "Hallo.\n",
      "Ich heisse Jurt   Müller , wiege \n",
      "20 kg und habe  03.02.2022 Geburtstag.\n",
      "Nice to meet you.\n"
     ]
    }
   ],
   "source": [
    "p1.vorstellen()"
   ]
  },
  {
   "cell_type": "code",
   "execution_count": 148,
   "id": "e73eb63c-9032-468c-9669-eb679c83b911",
   "metadata": {},
   "outputs": [
    {
     "name": "stdout",
     "output_type": "stream",
     "text": [
      "70\n"
     ]
    }
   ],
   "source": [
    "print(p1.gewicht)"
   ]
  },
  {
   "cell_type": "code",
   "execution_count": 149,
   "id": "c8b09c21-b5a6-441b-8481-65e65ce2177f",
   "metadata": {},
   "outputs": [
    {
     "name": "stdout",
     "output_type": "stream",
     "text": [
      "Altes Gewicht: 70 kg\n",
      "Neues Gewicht: 67 kg\n"
     ]
    }
   ],
   "source": [
    "p1.abnehmen(3)"
   ]
  },
  {
   "cell_type": "code",
   "execution_count": 150,
   "id": "a7283b31-fe35-420d-894d-a44e4a1c34e5",
   "metadata": {},
   "outputs": [
    {
     "name": "stdout",
     "output_type": "stream",
     "text": [
      "67\n"
     ]
    }
   ],
   "source": [
    "print(p1.gewicht)"
   ]
  },
  {
   "cell_type": "code",
   "execution_count": 151,
   "id": "854e1815-e3c2-4a7e-b077-5808894fa3d2",
   "metadata": {},
   "outputs": [],
   "source": [
    "class A(): \n",
    "    def __init__(self): \n",
    "        self.__priv = \"Ich bin privat\" \n",
    "        self._prot = \"Ich bin protected\" \n",
    "        self.pub = \"Ich bin öffentlich\""
   ]
  },
  {
   "cell_type": "code",
   "execution_count": 152,
   "id": "a6fdaab3-141f-4034-aaf7-f4661051e9ff",
   "metadata": {},
   "outputs": [],
   "source": [
    "b = A()"
   ]
  },
  {
   "cell_type": "code",
   "execution_count": 156,
   "id": "f4ac96e2-c8b0-40fa-af06-c5523c1114ae",
   "metadata": {},
   "outputs": [
    {
     "name": "stdout",
     "output_type": "stream",
     "text": [
      "Direkter Zugriff nicht möglich: 'A' object has no attribute '__priv'\n"
     ]
    }
   ],
   "source": [
    "try:\n",
    "    print(b.__priv)\n",
    "except AttributeError as e:\n",
    "    print(\"Direkter Zugriff nicht möglich:\", e)"
   ]
  },
  {
   "cell_type": "code",
   "execution_count": 158,
   "id": "c963f642-b053-4cbe-945a-14d806c61806",
   "metadata": {},
   "outputs": [
    {
     "name": "stdout",
     "output_type": "stream",
     "text": [
      "Ich bin privat\n"
     ]
    }
   ],
   "source": [
    "print(b._A__priv) "
   ]
  },
  {
   "cell_type": "code",
   "execution_count": 159,
   "id": "a1330524-f9d0-4086-9fc1-448b3336d072",
   "metadata": {},
   "outputs": [],
   "source": [
    "class Fahrzeug:\n",
    "    def __init__(self, marke, hubraum, leistung):\n",
    "        self.marke = marke\n",
    "        self.hubraum = hubraum\n",
    "        self.leistung = leistung\n",
    "        \n",
    "    def get_infos(self):\n",
    "        return f\"Marke: {self.marke}, Hubraum: {self.hubraum}, Leistung: {self.leistung}\"\n",
    "\n",
    "class Personenwagen(Fahrzeug):\n",
    "    pass\n",
    "\n",
    "class Lastwagen(Fahrzeug):\n",
    "    pass"
   ]
  },
  {
   "cell_type": "code",
   "execution_count": 160,
   "id": "2a857f0f-c244-4f19-ae10-2bbac4adae28",
   "metadata": {},
   "outputs": [],
   "source": [
    "myauto = Personenwagen(\"Bentely\",2, 560)"
   ]
  },
  {
   "cell_type": "code",
   "execution_count": 162,
   "id": "35e678dd-f9e8-44f7-a04c-56c86144a2b6",
   "metadata": {},
   "outputs": [
    {
     "data": {
      "text/plain": [
       "'Marke: Bentely, Hubraum: 2, Leistung: 560'"
      ]
     },
     "execution_count": 162,
     "metadata": {},
     "output_type": "execute_result"
    }
   ],
   "source": [
    "myauto.get_infos()"
   ]
  },
  {
   "cell_type": "markdown",
   "id": "be480b29-2025-4471-aec7-954e66f9e419",
   "metadata": {},
   "source": [
    "##### Übungsaufgaben \n",
    "A. Aufgabe: Grundlagen Klassen – Konsolenausgabe "
   ]
  },
  {
   "cell_type": "code",
   "execution_count": 164,
   "id": "faac28b0-396c-406e-8fbe-b7e3e0bed0db",
   "metadata": {},
   "outputs": [],
   "source": [
    "class Velo(): \n",
    "    def __init__(self, farbe, alter): \n",
    "        self.farbe = farbe \n",
    "        self.alter = alter \n",
    "v1 = Velo(\"gelb\", 5) \n",
    "v2 = Velo(\"rot\") # klppt nicht da ein Arugumnet fehlt"
   ]
  },
  {
   "cell_type": "code",
   "execution_count": 166,
   "id": "a1a1ec2f-7d78-4783-9897-8d745f1cae09",
   "metadata": {},
   "outputs": [
    {
     "name": "stdout",
     "output_type": "stream",
     "text": [
      "5\n",
      "None\n"
     ]
    }
   ],
   "source": [
    "class Velo(): \n",
    "    def __init__(self, farbe, alter=None): \n",
    "        self.farbe = farbe \n",
    "        self.alter = alter \n",
    "v1 = Velo(\"gelb\", 5) \n",
    "v2 = Velo(\"rot\") \n",
    "print(v1.alter) \n",
    "print(v2.alter) "
   ]
  },
  {
   "cell_type": "markdown",
   "id": "67bac4a5-fc9b-4638-9c17-9906d31deb78",
   "metadata": {},
   "source": [
    "B. Aufgabe: Mitarbeiterdatenbank"
   ]
  },
  {
   "cell_type": "code",
   "execution_count": 269,
   "id": "6dc21ec4-63dc-4dae-a273-3c20f90df842",
   "metadata": {},
   "outputs": [],
   "source": [
    "class Mitarbeiter:\n",
    "    def __init__ (self,vorname, nachname, lohn = 3800): \n",
    "        self.vorname = vorname\n",
    "        self.nachname = nachname \n",
    "        self.__lohn = lohn if lohn > 3800 else 3800 \n",
    "        \n",
    "    def get_mitarbeiter_id(self): \n",
    "        text = f\"\"\" ich heiße {self.vorname} , {self.nachname} (alias {self.get_initialen()}). Mein Lohn beträgt {self.__lohn} Euro\"\"\"\n",
    "        return text\n",
    "    def lohn_erhoehen(self, wieviel):  \n",
    "        self.__lohn += wieviel\n",
    "        return f\" Lohn nach der Erhöhung: {self.__lohn}\"\n",
    "\n",
    "    def lohn_senken(self, wieviel):\n",
    "        self.__lohn -=  wieviel \n",
    "        if self.__lohn < 3800 : \n",
    "            \n",
    "            self.__lohn += wieviel\n",
    "            print(f\"Der Lohn kann aufgrund der Mindestlohnregelung nicht gesenkt werden. Er bleibt bei {self.__lohn} Euro. Bitte kontaktieren Sie den Betriebsrat.\" )\n",
    "        else : \n",
    "            self.__lohn = self.__lohn\n",
    "            print(f\" Erfolg: Der Lohn wurde um {wieviel} euro gesenkt und beträgt nun {self.__lohn} euro.\")\n",
    "\n",
    "    def get_initialen(self): \n",
    "        initialen = self.vorname[0] + \".\" +  self.nachname[0]\n",
    "        return initialen\n",
    "            "
   ]
  },
  {
   "cell_type": "code",
   "execution_count": 270,
   "id": "aa255467-3b61-427e-b6ee-1857e39bb5bc",
   "metadata": {},
   "outputs": [],
   "source": [
    "yahya = Mitarbeiter(\"Yahya\", \"Al-Ghaish\", 4000)"
   ]
  },
  {
   "cell_type": "code",
   "execution_count": 271,
   "id": "7f3ff7bb-bc93-4301-be28-daadafd56f89",
   "metadata": {},
   "outputs": [
    {
     "data": {
      "text/plain": [
       "' ich heiße Yahya , Al-Ghaish (alias Y.A). Mein Lohn beträgt 4000 Euro'"
      ]
     },
     "execution_count": 271,
     "metadata": {},
     "output_type": "execute_result"
    }
   ],
   "source": [
    "yahya.get_mitarbeiter_id()"
   ]
  },
  {
   "cell_type": "code",
   "execution_count": 272,
   "id": "2f87e835-95eb-4a8d-b46b-7c714ad3e31b",
   "metadata": {},
   "outputs": [
    {
     "data": {
      "text/plain": [
       "' Lohn nach der Erhöhung: 7000'"
      ]
     },
     "execution_count": 272,
     "metadata": {},
     "output_type": "execute_result"
    }
   ],
   "source": [
    "yahya.lohn_erhoehen(3000)"
   ]
  },
  {
   "cell_type": "code",
   "execution_count": 273,
   "id": "05c1a33e-2c14-416f-ad10-942fdaf59c86",
   "metadata": {},
   "outputs": [
    {
     "name": "stdout",
     "output_type": "stream",
     "text": [
      "Der Lohn kann aufgrund der Mindestlohnregelung nicht gesenkt werden. Er bleibt bei 7000 Euro. Bitte kontaktieren Sie den Betriebsrat.\n"
     ]
    }
   ],
   "source": [
    "yahya.lohn_senken(4000)"
   ]
  },
  {
   "cell_type": "code",
   "execution_count": 274,
   "id": "20267f33-be30-4116-a176-8cf7c08e573e",
   "metadata": {},
   "outputs": [
    {
     "name": "stdout",
     "output_type": "stream",
     "text": [
      " Erfolg: Der Lohn wurde um 3000 euro gesenkt und beträgt nun 4000 euro.\n"
     ]
    }
   ],
   "source": [
    "yahya.lohn_senken(3000)"
   ]
  },
  {
   "cell_type": "code",
   "execution_count": 275,
   "id": "a8714203-8275-493c-962c-d0750db1fbda",
   "metadata": {},
   "outputs": [
    {
     "name": "stdout",
     "output_type": "stream",
     "text": [
      "Der Lohn kann aufgrund der Mindestlohnregelung nicht gesenkt werden. Er bleibt bei 4000 Euro. Bitte kontaktieren Sie den Betriebsrat.\n"
     ]
    }
   ],
   "source": [
    "yahya.lohn_senken(3000)"
   ]
  },
  {
   "cell_type": "code",
   "execution_count": 276,
   "id": "b09eb4cb-f14d-44cb-96ec-4d7921c8b5e2",
   "metadata": {},
   "outputs": [
    {
     "name": "stdout",
     "output_type": "stream",
     "text": [
      " Erfolg: Der Lohn wurde um 200 euro gesenkt und beträgt nun 3800 euro.\n"
     ]
    }
   ],
   "source": [
    "yahya.lohn_senken(200)"
   ]
  },
  {
   "cell_type": "code",
   "execution_count": 277,
   "id": "34d2afcf-d414-4eb2-8bf6-18d9a5bbeed0",
   "metadata": {},
   "outputs": [
    {
     "data": {
      "text/plain": [
       "'Y.A'"
      ]
     },
     "execution_count": 277,
     "metadata": {},
     "output_type": "execute_result"
    }
   ],
   "source": [
    "yahya.get_initialen()"
   ]
  },
  {
   "cell_type": "markdown",
   "id": "8375370b-7686-433b-b8e3-cbfb7af90343",
   "metadata": {},
   "source": [
    "C. Aufgabe: Brüche "
   ]
  },
  {
   "cell_type": "code",
   "execution_count": 279,
   "id": "7ed63f1b-8523-45f5-8ba6-f7577fe6c4ce",
   "metadata": {},
   "outputs": [],
   "source": [
    "class Brueche:\n",
    "    def __init__(self, zaehler, nenner):\n",
    "        \"\"\"\n",
    "        Initialisiert einen neuen Bruch.\n",
    "        Wirft eine ValueError wenn der Nenner 0 ist.\n",
    "        \"\"\"\n",
    "        if nenner == 0:\n",
    "            raise ValueError(\"Der Nenner darf nicht 0 sein!\")\n",
    "        self.zaehler = zaehler\n",
    "        self.nenner = nenner\n",
    "        self.kuerzen()\n",
    "\n",
    "    def print_wert(self):\n",
    "        \"\"\"Gibt den Wert des Bruches auf der Konsole aus.\"\"\"\n",
    "        print(f\"Der Wert des Bruches beträgt {self.zaehler}/{self.nenner}.\")\n",
    "\n",
    "    def _ggt(self, a, b):\n",
    "        \"\"\"Berechnet den größten gemeinsamen Teiler von a und b.\"\"\"\n",
    "        a, b = abs(a), abs(b)\n",
    "        while b != 0:\n",
    "            a, b = b, a % b\n",
    "        return a\n",
    "\n",
    "    def kuerzen(self):\n",
    "        \"\"\"Kürzt den Bruch soweit wie möglich.\"\"\"\n",
    "        ggt = self._ggt(self.zaehler, self.nenner)\n",
    "        self.zaehler //= ggt\n",
    "        self.nenner //= ggt\n",
    "        # Stelle sicher, dass das negative Vorzeichen im Zähler steht\n",
    "        if self.nenner < 0:\n",
    "            self.zaehler = -self.zaehler\n",
    "            self.nenner = -self.nenner\n",
    "\n",
    "    def add(self, other):\n",
    "        \"\"\"\n",
    "        Addiert zwei Brüche und gibt einen neuen Bruch zurück.\n",
    "        \"\"\"\n",
    "        neuer_zaehler = self.zaehler * other.nenner + other.zaehler * self.nenner\n",
    "        neuer_nenner = self.nenner * other.nenner\n",
    "        ergebnis = Brueche(neuer_zaehler, neuer_nenner)\n",
    "        ergebnis.kuerzen()\n",
    "        return ergebnis\n",
    "\n",
    "    def multiply(self, other):\n",
    "        \"\"\"\n",
    "        Multipliziert zwei Brüche und gibt einen neuen Bruch zurück.\n",
    "        \"\"\"\n",
    "        neuer_zaehler = self.zaehler * other.zaehler\n",
    "        neuer_nenner = self.nenner * other.nenner\n",
    "        ergebnis = Brueche(neuer_zaehler, neuer_nenner)\n",
    "        ergebnis.kuerzen()\n",
    "        return ergebnis\n",
    "\n",
    "    def equal(self, other):\n",
    "        \"\"\"\n",
    "        Vergleicht zwei Brüche auf Gleichheit.\n",
    "        Kürzt beide Brüche vorher, um echte Wertgleichheit zu prüfen.\n",
    "        \"\"\"\n",
    "        bruch1 = Brueche(self.zaehler, self.nenner)\n",
    "        bruch2 = Brueche(other.zaehler, other.nenner)\n",
    "        bruch1.kuerzen()\n",
    "        bruch2.kuerzen()\n",
    "        return bruch1.zaehler == bruch2.zaehler and bruch1.nenner == bruch2.nenner"
   ]
  },
  {
   "cell_type": "code",
   "execution_count": 280,
   "id": "062f3494-8547-4c84-a7db-560fc245199f",
   "metadata": {},
   "outputs": [
    {
     "name": "stdout",
     "output_type": "stream",
     "text": [
      "Der Wert des Bruches beträgt 2/3.\n",
      "Der Wert des Bruches beträgt 1/6.\n",
      "Der Wert des Bruches beträgt 5/6.\n",
      "Der Wert des Bruches beträgt 1/9.\n",
      "False\n",
      "True\n"
     ]
    }
   ],
   "source": [
    "# Beispiele zur Verwendung der Klasse\n",
    "try:\n",
    "    # Erstelle zwei Brüche\n",
    "    b1 = Brueche(2, 3)\n",
    "    b2 = Brueche(1, 6)\n",
    "\n",
    "    # Ausgabe der Brüche\n",
    "    b1.print_wert()  # Ausgabe: Der Wert des Bruches beträgt 2/3.\n",
    "    b2.print_wert()  # Ausgabe: Der Wert des Bruches beträgt 1/6.\n",
    "\n",
    "    # Addition\n",
    "    summe = b1.add(b2)\n",
    "    summe.print_wert()  # Ausgabe: Der Wert des Bruches beträgt 5/6.\n",
    "\n",
    "    # Multiplikation\n",
    "    produkt = b1.multiply(b2)\n",
    "    produkt.print_wert()  # Ausgabe: Der Wert des Bruches beträgt 1/9.\n",
    "\n",
    "    # Vergleich\n",
    "    print(b1.equal(b2))  # Ausgabe: False\n",
    "\n",
    "    # Test mit gekürztem Bruch\n",
    "    b3 = Brueche(2, 4)  # wird zu 1/2 gekürzt\n",
    "    b4 = Brueche(1, 2)\n",
    "    print(b3.equal(b4))  # Ausgabe: True\n",
    "\n",
    "except ValueError as e:\n",
    "    print(f\"Fehler: {e}\")"
   ]
  },
  {
   "cell_type": "code",
   "execution_count": null,
   "id": "8b1e37f7-a379-4911-a0a9-4e46dc97534f",
   "metadata": {},
   "outputs": [],
   "source": []
  }
 ],
 "metadata": {
  "kernelspec": {
   "display_name": "Python 3 (ipykernel)",
   "language": "python",
   "name": "python3"
  },
  "language_info": {
   "codemirror_mode": {
    "name": "ipython",
    "version": 3
   },
   "file_extension": ".py",
   "mimetype": "text/x-python",
   "name": "python",
   "nbconvert_exporter": "python",
   "pygments_lexer": "ipython3",
   "version": "3.11.8"
  }
 },
 "nbformat": 4,
 "nbformat_minor": 5
}
