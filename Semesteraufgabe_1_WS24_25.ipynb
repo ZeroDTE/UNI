{
 "cells": [
  {
   "cell_type": "code",
   "execution_count": 1,
   "metadata": {},
   "outputs": [],
   "source": [
    "import numpy as np\n",
    "import matplotlib.pyplot as plt\n",
    "from scipy.integrate import solve_ivp\n",
    "# Parameter direkt im Jupyter Notebook eingeben\n",
    "omega01 = 1.0  # Eigenfrequenz der ersten Masse\n",
    "omega02 = 2.0  # Eigenfrequenz der zweiten Masse\n",
    "x1_0 = 1.0     # Anfangsauslenkung der ersten Masse\n",
    "x2_0 = 0.0     # Anfangsauslenkung der zweiten Masse\n",
    "v1_0 = 0.0     # Anfangsgeschwindigkeit der ersten Masse\n",
    "v2_0 = 0.0     # Anfangsgeschwindigkeit der zweiten Masse\n",
    "t_max = 10.0   # maximale Zeitspanne für die Berechnung\n",
    "n_points = 1000 # Anzahl der zu berechnenden Datenpunkte"
   ]
  },
  {
   "cell_type": "code",
   "execution_count": null,
   "metadata": {},
   "outputs": [],
   "source": [
    "# DGLs definieren\n",
    "def dgl(t, y):\n",
    "    x1, x2, v1, v2 = y\n",
    "    dx1 = v1\n",
    "    dx2 = v2\n",
    "    dv1 = -omega01**2 * x1\n",
    "    dv2 = -omega02**2 * x2\n",
    "    return [dx1, dx2, dv1, dv2]\n",
    "\n"
   ]
  }
 ],
 "metadata": {
  "kernelspec": {
   "display_name": "Python 3",
   "language": "python",
   "name": "python3"
  },
  "language_info": {
   "codemirror_mode": {
    "name": "ipython",
    "version": 3
   },
   "file_extension": ".py",
   "mimetype": "text/x-python",
   "name": "python",
   "nbconvert_exporter": "python",
   "pygments_lexer": "ipython3",
   "version": "3.11.8"
  }
 },
 "nbformat": 4,
 "nbformat_minor": 2
}
